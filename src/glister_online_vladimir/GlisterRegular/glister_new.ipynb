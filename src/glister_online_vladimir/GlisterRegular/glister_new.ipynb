{
 "cells": [
  {
   "cell_type": "code",
   "execution_count": 2,
   "id": "understanding-quest",
   "metadata": {},
   "outputs": [],
   "source": [
    "import numpy as np\n",
    "import pandas as pd\n",
    "import matplotlib.pyplot as plt\n",
    "from sklearn.model_selection import train_test_split\n",
    "\n",
    "import torch\n",
    "import torch.utils.data as torch_data\n",
    "\n",
    "from Glister import GlisterOnline"
   ]
  },
  {
   "cell_type": "code",
   "execution_count": 3,
   "id": "superb-advancement",
   "metadata": {},
   "outputs": [],
   "source": [
    "class DNA_DATA(torch_data.Dataset):\n",
    "    \n",
    "    def __init__(self, X, y):\n",
    "        super(DNA_DATA, self).__init__()\n",
    "        self.X = torch.tensor(X, dtype=torch.float32)\n",
    "        self.y = torch.tensor(y, dtype=torch.long) \n",
    "    \n",
    "    def __len__(self):\n",
    "        return list(self.X.size())[0]\n",
    "    \n",
    "    def __getitem__(self, idx):\n",
    "        return (self.X[idx], self.y[idx])"
   ]
  },
  {
   "cell_type": "code",
   "execution_count": 4,
   "id": "pursuant-lexington",
   "metadata": {},
   "outputs": [],
   "source": [
    "class TwoLayerNet(torch.nn.Module):\n",
    "    def __init__(self):\n",
    "        super(TwoLayerNet, self).__init__()\n",
    "        self.linear1 = torch.nn.Linear(180, 20)\n",
    "        self.linear2 = torch.nn.Linear(20, 10)\n",
    "    \n",
    "    def forward(self, x, last=False):\n",
    "        l1scores = torch.nn.functional.relu(self.linear1(x))\n",
    "        scores = self.linear2(l1scores)\n",
    "        if last:\n",
    "            return scores, l1scores\n",
    "        else:\n",
    "            return scores"
   ]
  },
  {
   "cell_type": "code",
   "execution_count": 6,
   "id": "industrial-hierarchy",
   "metadata": {},
   "outputs": [],
   "source": [
    "data = pd.read_csv('dna.csv')\n",
    "X_train, X_test, y_train, y_test = train_test_split(data.drop('class', axis = 1), data['class'], test_size = 0.3)"
   ]
  },
  {
   "cell_type": "code",
   "execution_count": 7,
   "id": "contrary-assets",
   "metadata": {},
   "outputs": [],
   "source": [
    "fullset = DNA_DATA(np.array(X_train), np.array(y_train))\n",
    "valset = DNA_DATA(np.array(X_train), np.array(y_train))\n",
    "testset = DNA_DATA(np.array(X_test), np.array(y_test))"
   ]
  },
  {
   "cell_type": "code",
   "execution_count": 8,
   "id": "improved-department",
   "metadata": {},
   "outputs": [],
   "source": [
    "glister = GlisterOnline(\n",
    "    fullset = fullset,\n",
    "    valset = valset,\n",
    "    testset = testset,\n",
    "    device = \"cpu\",\n",
    "    validation_set_fraction = 0.1,\n",
    "    trn_batch_size = 20,\n",
    "    val_batch_size = 50,\n",
    "    tst_batch_size = 50,\n",
    "    dss_batch_size = 50,\n",
    "    model = TwoLayerNet(),\n",
    "    num_epochs = 10,\n",
    "    learning_rate = 1.0,\n",
    "    num_classes = 10,\n",
    "    n_channels = 1,\n",
    "    bud = 100,\n",
    "    lam = 0.1)"
   ]
  },
  {
   "cell_type": "code",
   "execution_count": 9,
   "id": "silent-outreach",
   "metadata": {
    "scrolled": false
   },
   "outputs": [
    {
     "name": "stdout",
     "output_type": "stream",
     "text": [
      "Epoch: 1 SubsetTrn,FullTrn,ValLoss: 2.356973648071289 182.6209760904312 8.997533202171326\n",
      "selEpoch: 0, Starting Selection: 2021-03-17 22:49:26.412681\n",
      "numSelected: 0 Time for 1: 0.0065190792083740234\n",
      "selEpoch: 0, Selection Ended at: 2021-03-17 22:49:26.510849\n",
      "Epoch: 2 SubsetTrn,FullTrn,ValLoss: 8.832827806472778 118.9138697385788 5.650245547294617\n",
      "selEpoch: 1, Starting Selection: 2021-03-17 22:49:26.538914\n",
      "numSelected: 0 Time for 1: 0.006198883056640625\n"
     ]
    },
    {
     "name": "stderr",
     "output_type": "stream",
     "text": [
      "/Users/vladimiromelyusik/ML2021-Coreset-Selection/src/glister_online_vladimir/set_function.py:31: VisibleDeprecationWarning: Creating an ndarray from ragged nested sequences (which is a list-or-tuple of lists-or-tuples-or ndarrays with different lengths or shapes) is deprecated. If you meant to do this, you must specify 'dtype=object' when creating the ndarray\n",
      "  batch_wise_indices = np.array([list(BatchSampler(SequentialSampler(np.arange(self.N_trn)), self.batch_size, drop_last=False))][0])\n"
     ]
    },
    {
     "name": "stdout",
     "output_type": "stream",
     "text": [
      "selEpoch: 1, Selection Ended at: 2021-03-17 22:49:26.664714\n",
      "Epoch: 3 SubsetTrn,FullTrn,ValLoss: 7.936232924461365 123.01679730415344 6.082277417182922\n",
      "selEpoch: 2, Starting Selection: 2021-03-17 22:49:26.692660\n",
      "numSelected: 0 Time for 1: 0.0061948299407958984\n",
      "selEpoch: 2, Selection Ended at: 2021-03-17 22:49:26.782780\n",
      "Epoch: 4 SubsetTrn,FullTrn,ValLoss: 6.559903621673584 161.0219497680664 8.12591803073883\n",
      "selEpoch: 3, Starting Selection: 2021-03-17 22:49:26.810105\n",
      "numSelected: 0 Time for 1: 0.006143093109130859\n",
      "selEpoch: 3, Selection Ended at: 2021-03-17 22:49:26.902968\n",
      "Epoch: 5 SubsetTrn,FullTrn,ValLoss: 6.746968626976013 103.71712267398834 5.071864187717438\n",
      "selEpoch: 4, Starting Selection: 2021-03-17 22:49:26.931174\n",
      "numSelected: 0 Time for 1: 0.0062618255615234375\n",
      "selEpoch: 4, Selection Ended at: 2021-03-17 22:49:27.023385\n",
      "Epoch: 6 SubsetTrn,FullTrn,ValLoss: 6.6032832860946655 122.4283155798912 6.002121806144714\n",
      "selEpoch: 5, Starting Selection: 2021-03-17 22:49:27.051608\n",
      "numSelected: 0 Time for 1: 0.0062448978424072266\n",
      "selEpoch: 5, Selection Ended at: 2021-03-17 22:49:27.146174\n",
      "Epoch: 7 SubsetTrn,FullTrn,ValLoss: 6.658611536026001 122.92366939783096 5.9710177183151245\n",
      "selEpoch: 6, Starting Selection: 2021-03-17 22:49:27.174980\n",
      "numSelected: 0 Time for 1: 0.006562709808349609\n",
      "selEpoch: 6, Selection Ended at: 2021-03-17 22:49:27.267438\n",
      "Epoch: 8 SubsetTrn,FullTrn,ValLoss: 5.983482122421265 109.35406696796417 5.374256253242493\n",
      "selEpoch: 7, Starting Selection: 2021-03-17 22:49:27.295623\n",
      "numSelected: 0 Time for 1: 0.00606083869934082\n",
      "selEpoch: 7, Selection Ended at: 2021-03-17 22:49:27.392253\n",
      "Epoch: 9 SubsetTrn,FullTrn,ValLoss: 5.082315504550934 99.37568539381027 5.0605961084365845\n",
      "selEpoch: 8, Starting Selection: 2021-03-17 22:49:27.422385\n",
      "numSelected: 0 Time for 1: 0.006361961364746094\n",
      "selEpoch: 8, Selection Ended at: 2021-03-17 22:49:27.515381\n",
      "Epoch: 10 SubsetTrn,FullTrn,ValLoss: 4.851160168647766 109.6068851351738 5.530478894710541\n",
      "selEpoch: 9, Starting Selection: 2021-03-17 22:49:27.543744\n",
      "numSelected: 0 Time for 1: 0.00596308708190918\n",
      "selEpoch: 9, Selection Ended at: 2021-03-17 22:49:27.636696\n",
      "SelectionRun---------------------------------\n",
      "Final SubsetTrn and FullTrn Loss: 6.155635833740234 109.6068851351738\n",
      "Validation Loss and Accuracy: 5.559964179992676 0.5336322869955157\n",
      "Test Data Loss and Accuracy: 22.0640851855278 0.5240585774058577\n",
      "-----------------------------------\n"
     ]
    }
   ],
   "source": [
    "val_acc, tst_acc, subtrn_acc, full_trn_acc,\\\n",
    "val_loss, test_loss, subtrn_loss, full_trn_loss,\\\n",
    "val_losses, substrn_losses, fulltrn_losses,\\\n",
    "idxs, time = glister.random_greedy_train_model_online_taylor(np.arange(20))"
   ]
  },
  {
   "cell_type": "code",
   "execution_count": 10,
   "id": "packed-recorder",
   "metadata": {},
   "outputs": [
    {
     "data": {
      "text/plain": [
       "100"
      ]
     },
     "execution_count": 10,
     "metadata": {},
     "output_type": "execute_result"
    }
   ],
   "source": [
    "len(idxs)"
   ]
  },
  {
   "cell_type": "code",
   "execution_count": null,
   "id": "collaborative-fitness",
   "metadata": {},
   "outputs": [],
   "source": []
  }
 ],
 "metadata": {
  "kernelspec": {
   "display_name": "Python 3",
   "language": "python",
   "name": "python3"
  },
  "language_info": {
   "codemirror_mode": {
    "name": "ipython",
    "version": 3
   },
   "file_extension": ".py",
   "mimetype": "text/x-python",
   "name": "python",
   "nbconvert_exporter": "python",
   "pygments_lexer": "ipython3",
   "version": "3.8.8"
  }
 },
 "nbformat": 4,
 "nbformat_minor": 5
}
