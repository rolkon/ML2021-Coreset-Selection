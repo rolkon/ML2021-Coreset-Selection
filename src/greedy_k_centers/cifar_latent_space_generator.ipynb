{
 "cells": [
  {
   "cell_type": "markdown",
   "metadata": {},
   "source": [
    "# CIFAR Latent Space Generator\n",
    "\n",
    "This program takes the CIFAR-10 dataset, and feeds it through the pre-trained ResNet from `src/submodules/PyTorch_CIFAR10`."
   ]
  },
  {
   "cell_type": "markdown",
   "metadata": {},
   "source": [
    "### Load and initialize the model"
   ]
  },
  {
   "cell_type": "code",
   "execution_count": 12,
   "metadata": {},
   "outputs": [
    {
     "name": "stderr",
     "output_type": "stream",
     "text": [
      "  0%|          | 0/50000 [15:17<?, ?it/s], 45.00it/s]\n",
      "100%|██████████| 50000/50000 [19:30<00:00, 42.73it/s]\n",
      "  1%|          | 395/50000 [24:45<51:50:13,  3.76s/it]\n"
     ]
    }
   ],
   "source": [
    "import sys\n",
    "sys.path.append('../submodules/PyTorch_CIFAR10/cifar10_models/')\n",
    "\n",
    "from resnet import resnet18\n",
    "import torch\n",
    "import torchvision\n",
    "import torchvision.transforms as transforms\n",
    "import numpy as np\n",
    "from tqdm import tqdm\n",
    "\n",
    "mean = (0.4914, 0.4822, 0.4465)\n",
    "std = (0.2471, 0.2435, 0.2616)\n",
    "\n",
    "#preprocessing\n",
    "transform = transforms.Compose([\n",
    "    transforms.RandomCrop(32, padding=4),\n",
    "    transforms.RandomHorizontalFlip(),\n",
    "    transforms.ToTensor(),\n",
    "    transforms.Normalize(mean, std)\n",
    "])\n",
    "\n",
    "# CIFAR-10 dataset\n",
    "train_dataset = torchvision.datasets.CIFAR10(root='../data/',\n",
    "                                             train=True, \n",
    "                                             transform=transform,\n",
    "                                             download=False)\n",
    "\n",
    "# Device configuration\n",
    "device = torch.device('cuda:1' if torch.cuda.is_available() else 'cpu')\n",
    "\n",
    "net = resnet18(pretrained=True)\n",
    "\n",
    "#transform all datapoints to a latent representation\n",
    "latent_data = []\n",
    "\n",
    "with tqdm(total=len(train_dataset)) as pbar:\n",
    "    for i in range(len(train_dataset)):\n",
    "        datapoint = train_dataset[i][0].reshape(1, 3, 32, 32)\n",
    "        latent_data.append(net.encode(datapoint).detach().numpy()[0])\n",
    "        pbar.update(1)\n",
    "    \n",
    "latent_data = np.array(latent_data)\n",
    "t.close()"
   ]
  },
  {
   "cell_type": "code",
   "execution_count": 15,
   "metadata": {},
   "outputs": [],
   "source": [
    "np.savetxt('CIFAR_latent_data.csv', latent_data, delimiter=',')"
   ]
  }
 ],
 "metadata": {
  "kernelspec": {
   "display_name": "Python 3",
   "language": "python",
   "name": "python3"
  },
  "language_info": {
   "codemirror_mode": {
    "name": "ipython",
    "version": 3
   },
   "file_extension": ".py",
   "mimetype": "text/x-python",
   "name": "python",
   "nbconvert_exporter": "python",
   "pygments_lexer": "ipython3",
   "version": "3.6.8"
  }
 },
 "nbformat": 4,
 "nbformat_minor": 2
}
