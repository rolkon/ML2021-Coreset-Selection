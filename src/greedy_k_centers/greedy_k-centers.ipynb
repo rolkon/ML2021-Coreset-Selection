{
 "cells": [
  {
   "cell_type": "markdown",
   "id": "hindu-marshall",
   "metadata": {},
   "source": [
    "# Greedy K-Centers\n",
    "\n",
    "This notebook provides the implementation and some test environment for the greedy k-centers algorithm for datapoint coreset selection.\n",
    "\n",
    "Relevant literature:\n",
    "- [https://openreview.net/pdf?id=H1aIuk-RW](https://openreview.net/pdf?id=H1aIuk-RW)\n",
    "- [https://arxiv.org/pdf/1906.11829.pdf](https://arxiv.org/pdf/1906.11829.pdf)"
   ]
  },
  {
   "cell_type": "markdown",
   "id": "instructional-actress",
   "metadata": {},
   "source": [
    "# Algorithm implementation\n",
    "\n",
    "Taken from the repository [https://github.com/stanford-futuredata/selection-via-proxy](https://github.com/stanford-futuredata/selection-via-proxy)"
   ]
  },
  {
   "cell_type": "code",
   "execution_count": 1,
   "id": "primary-green",
   "metadata": {},
   "outputs": [
    {
     "name": "stdout",
     "output_type": "stream",
     "text": [
      "Overwriting greedy_k_center.py\n"
     ]
    }
   ],
   "source": [
    "%%writefile greedy_k_center.py\n",
    "import numpy as np\n",
    "import scipy.spatial.distance\n",
    "from tqdm import tqdm\n",
    "\n",
    "def k_center_greedy(X, s, b):\n",
    "    '''\n",
    "    Args\n",
    "    - X: np.array, shape [n, d]\n",
    "    - s: list of int, indices of X that have already been selected\n",
    "    - b: int, new selection budget\n",
    "\n",
    "    Returns: np.array, shape [b], type int64, newly selected indices\n",
    "    '''\n",
    "    n = X.shape[0]\n",
    "    p = np.setdiff1d(np.arange(n), s, assume_unique=True)  # pool indices\n",
    "    sel = np.empty(b, dtype=np.int64)\n",
    "\n",
    "    sl = len(s)\n",
    "    D = np.zeros([sl + b, len(p)], dtype=np.float32)\n",
    "    D[:sl] = scipy.spatial.distance.cdist(X[s], X[p], metric='euclidean')  # shape (|s|,|p|)\n",
    "    mins = np.min(D[:sl], axis=0)  # vector of length |p|\n",
    "    cols = np.ones(len(p), dtype=bool)  # columns still in use\n",
    "\n",
    "    for i in tqdm(range(b), desc=\"Greedy k-Centers\"):\n",
    "        j = np.argmax(mins)\n",
    "        u = p[j]\n",
    "        sel[i] = u\n",
    "\n",
    "        if i == b - 1:\n",
    "            break\n",
    "\n",
    "        mins[j] = -1\n",
    "        cols[j] = False\n",
    "\n",
    "        # compute dist between selected point and remaining pool points\n",
    "        r = sl + i + 1\n",
    "        D[r, cols] = scipy.spatial.distance.cdist(X[u:u+1], X[p[cols]])[0]\n",
    "        mins = np.minimum(mins, D[r])\n",
    "\n",
    "    return sel\n",
    "\n",
    "def k_center_greedy_slow(X, s0, b):\n",
    "    '''\n",
    "    @param X: [n, d] dataset, n datapoints with d features\n",
    "    @param s0: list of indices, existing pool of center points\n",
    "    @param b: budget\n",
    "    @return: list of indices, new k-center points (not in s0) of size b\n",
    "    '''\n",
    "    n = X.shape[0]\n",
    "    \n",
    "    #get indices of remaining datapoints (not in s)\n",
    "    rem = np.setdiff1d(np.arange(n), s, assume_unique=True).tolist()\n",
    "    \n",
    "    #choose random first datapoint if s is empty\n",
    "    if len(s0) == 0:\n",
    "        s0 = [np.random.randint(0, n)]\n",
    "    \n",
    "    sel = list(s0)\n",
    "\n",
    "    # add center points until budget is exhausted\n",
    "    for i in range(b):\n",
    "        D = scipy.spatial.distance.cdist(X[sel], X[rem], metric='euclidean')  # shape (|s|,|p|)\n",
    "        \n",
    "        #search item with largest distance to all centers,\n",
    "        #this becomes a new center point\n",
    "        j = np.argmax(np.min(D, axis=0))\n",
    "        u = rem[j]\n",
    "        sel.append(u)\n",
    "        rem.pop(j)\n",
    "\n",
    "    #return s\\s0 centers\n",
    "    return np.asarray(sel[-b:])"
   ]
  },
  {
   "cell_type": "markdown",
   "id": "focal-somalia",
   "metadata": {},
   "source": [
    "# Testing\n",
    "\n",
    "Some tests for the implementation to play around with"
   ]
  },
  {
   "cell_type": "code",
   "execution_count": 18,
   "id": "dimensional-surveillance",
   "metadata": {
    "scrolled": false
   },
   "outputs": [
    {
     "name": "stderr",
     "output_type": "stream",
     "text": [
      "Greedy k-Centers:   0%|          | 0/10 [00:00<?, ?it/s]\n"
     ]
    },
    {
     "data": {
      "image/png": "[encoded data removed]",
      "text/plain": [
       "<Figure size 1152x648 with 1 Axes>"
      ]
     },
     "metadata": {},
     "output_type": "display_data"
    }
   ],
   "source": [
    "from sklearn.datasets import make_blobs\n",
    "from matplotlib import pyplot as plt\n",
    "from greedy_k_center import k_center_greedy\n",
    "import numpy as np\n",
    "\n",
    "X, y = make_blobs(n_samples=100, random_state=0)\n",
    "\n",
    "seedsize = 2\n",
    "budget = 10\n",
    "# get seed of random indices of X\n",
    "seed = np.random.permutation(np.arange(0, len(X)))[:seedsize]\n",
    "\n",
    "centers = k_center_greedy(X=X, s=seed, b=budget)\n",
    "\n",
    "plt.figure(figsize=(16, 9))\n",
    "plt.scatter(X[:,0], X[:,1], c='lightblue', label='data')\n",
    "plt.scatter(X[seed,0], X[seed,1], c='purple', label='seed')\n",
    "plt.scatter(X[centers,0], X[centers,1], c='red', label='centers')\n",
    "\n",
    "plt.legend();"
   ]
  }
 ],
 "metadata": {
  "kernelspec": {
   "display_name": "Python 3",
   "language": "python",
   "name": "python3"
  },
  "language_info": {
   "codemirror_mode": {
    "name": "ipython",
    "version": 3
   },
   "file_extension": ".py",
   "mimetype": "text/x-python",
   "name": "python",
   "nbconvert_exporter": "python",
   "pygments_lexer": "ipython3",
   "version": "3.6.9"
  }
 },
 "nbformat": 4,
 "nbformat_minor": 5
}
