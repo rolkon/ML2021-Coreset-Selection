{
 "cells": [
  {
   "cell_type": "markdown",
   "metadata": {},
   "source": [
    "# K-Center Subset Generator\n",
    "\n",
    "Uses the Greedy K-Center Algorithm to generate the index subset"
   ]
  },
  {
   "cell_type": "code",
   "execution_count": 4,
   "metadata": {},
   "outputs": [
    {
     "data": {
      "text/plain": [
       "50000"
      ]
     },
     "execution_count": 4,
     "metadata": {},
     "output_type": "execute_result"
    }
   ],
   "source": [
    "from greedy_k_center import k_center_greedy\n",
    "import numpy as np\n",
    "\n",
    "datapoints = np.loadtxt('CIFAR_latent_data.csv', delimiter=',')"
   ]
  },
  {
   "cell_type": "code",
   "execution_count": 8,
   "metadata": {},
   "outputs": [
    {
     "name": "stderr",
     "output_type": "stream",
     "text": [
      "Greedy k-Centers: 100%|█████████▉| 24499/24500 [23:55<00:00, 17.06it/s]\n"
     ]
    }
   ],
   "source": [
    "budget = len(datapoints)//2\n",
    "\n",
    "# use random 1% of original data as seed\n",
    "seedsize = len(datapoints) // 100\n",
    "seed = np.random.permutation(np.arange(0, len(datapoints)))[:seedsize]\n",
    "\n",
    "# k-centers adds |budget| new points to the indices list, so we subtract the seeds\n",
    "budget -= seedsize\n",
    "\n",
    "indices = k_center_greedy(datapoints, seed, budget)"
   ]
  }
 ],
 "metadata": {
  "kernelspec": {
   "display_name": "Python 3",
   "language": "python",
   "name": "python3"
  },
  "language_info": {
   "codemirror_mode": {
    "name": "ipython",
    "version": 3
   },
   "file_extension": ".py",
   "mimetype": "text/x-python",
   "name": "python",
   "nbconvert_exporter": "python",
   "pygments_lexer": "ipython3",
   "version": "3.6.8"
  }
 },
 "nbformat": 4,
 "nbformat_minor": 2
}
