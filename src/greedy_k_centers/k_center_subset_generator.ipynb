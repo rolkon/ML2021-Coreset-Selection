{
 "cells": [
  {
   "cell_type": "markdown",
   "metadata": {},
   "source": [
    "# K-Center Subset Generator\n",
    "\n",
    "Uses the Greedy K-Center Algorithm to generate the index subset"
   ]
  },
  {
   "cell_type": "code",
   "execution_count": 2,
   "metadata": {},
   "outputs": [],
   "source": [
    "from greedy_k_center import k_center_greedy\n",
    "import numpy as np\n",
    "\n",
    "datapoints = np.loadtxt('CIFAR_latent_data.csv', delimiter=',')"
   ]
  },
  {
   "cell_type": "code",
   "execution_count": 4,
   "metadata": {},
   "outputs": [
    {
     "name": "stderr",
     "output_type": "stream",
     "text": [
      "Greedy k-Centers: 100%|█████████▉| 8999/9000 [03:45<00:00, 39.88it/s]\n"
     ]
    }
   ],
   "source": [
    "#only use subset of the data, to be able to compute glister\n",
    "np.random.seed(0)\n",
    "sub_indices = np.random.permutation(np.arange(0, len(datapoints)))[:20000]\n",
    "\n",
    "datapoints = [datapoints[i] for i in sub_indices]\n",
    "datapoints = np.array(datapoints)\n",
    "\n",
    "budget = len(datapoints)//2\n",
    "\n",
    "# use 1000 as seed, as suggested by Egor\n",
    "seedsize = 1000\n",
    "seed = np.random.permutation(np.arange(0, len(datapoints)))[:seedsize]\n",
    "\n",
    "# k-centers adds |budget| new points to the indices list, so we subtract the seeds\n",
    "budget -= seedsize\n",
    "\n",
    "indices = k_center_greedy(datapoints, seed, budget)\n",
    "\n",
    "indices = np.concatenate((indices, seed))\n",
    "\n",
    "np.savetxt('k_centers_indices.csv', indices, delimiter=',')"
   ]
  }
 ],
 "metadata": {
  "kernelspec": {
   "display_name": "Python 3",
   "language": "python",
   "name": "python3"
  },
  "language_info": {
   "codemirror_mode": {
    "name": "ipython",
    "version": 3
   },
   "file_extension": ".py",
   "mimetype": "text/x-python",
   "name": "python",
   "nbconvert_exporter": "python",
   "pygments_lexer": "ipython3",
   "version": "3.6.8"
  }
 },
 "nbformat": 4,
 "nbformat_minor": 2
}
