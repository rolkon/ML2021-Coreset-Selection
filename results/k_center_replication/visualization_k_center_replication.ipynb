{
 "cells": [
  {
   "cell_type": "markdown",
   "metadata": {},
   "source": [
    "# Results\n",
    "\n",
    "This Notebook visualizes the results gathered from the tests."
   ]
  },
  {
   "cell_type": "markdown",
   "metadata": {},
   "source": [
    "#### Loading data"
   ]
  },
  {
   "cell_type": "code",
   "execution_count": 36,
   "metadata": {},
   "outputs": [],
   "source": [
    "import numpy as np\n",
    "from os import path\n",
    "import logging\n",
    "logging.getLogger().setLevel(logging.CRITICAL)\n",
    "\n",
    "data_path = 'data/'\n",
    "\n",
    "data = {}\n",
    "\n",
    "data['epochs'] = np.arange(5, 105, 5)\n",
    "\n",
    "percentage_strings = ['010', '030', '050']\n",
    "selectors = ['K-Centers', 'Random']\n",
    "percentages = [10, 30, 50, 100]\n",
    "\n",
    "data[100] = np.loadtxt(data_path + '100_resnet_fullset.csv', delimiter=',')\n",
    "\n",
    "for percentage_string in percentage_strings:\n",
    "    frac = int(percentage_string)\n",
    "\n",
    "    sel_dict = {}\n",
    "    for selector in selectors:\n",
    "        filename = '{}_resnet_{}_fullset.csv'.format(percentage_string, selector.lower())\n",
    "\n",
    "        sel_dict[selector.lower()] = np.loadtxt(data_path+filename)\n",
    "\n",
    "    data[frac] = sel_dict"
   ]
  },
  {
   "cell_type": "markdown",
   "metadata": {},
   "source": [
    "## Visualization"
   ]
  },
  {
   "cell_type": "code",
   "execution_count": 37,
   "metadata": {},
   "outputs": [],
   "source": [
    "import matplotlib\n",
    "\n",
    "matplotlib.rcParams.update({\n",
    "    'pgf.texsystem': 'pdflatex',\n",
    "    'font.family': 'serif',\n",
    "    'font.size': 14,\n",
    "    'text.usetex': True,\n",
    "    'pgf.rcfonts': False,\n",
    "})\n",
    "\n",
    "from matplotlib import pyplot as plt"
   ]
  },
  {
   "cell_type": "code",
   "execution_count": 39,
   "metadata": {},
   "outputs": [
    {
     "data": {
      "image/png": "[encoded data removed]",
      "text/plain": [
       "<Figure size 504x288 with 1 Axes>"
      ]
     },
     "metadata": {},
     "output_type": "display_data"
    }
   ],
   "source": [
    "plt.figure(figsize=(7, 4))\n",
    "\n",
    "kcenter = []\n",
    "random = []\n",
    "\n",
    "for percentage in percentages[:3]:\n",
    "    kcenter.append(data[percentage]['k-centers'][-1])\n",
    "    random.append(data[percentage]['random'][-1])\n",
    "    \n",
    "acc_full_data = data[100][-1]\n",
    "kcenter.append(acc_full_data)\n",
    "random.append(acc_full_data)\n",
    "    \n",
    "\n",
    "plt.plot(percentages, kcenter, color='blue', marker='o', label='K-Center')\n",
    "plt.plot(percentages, random, color='red', marker='^', label='Random')\n",
    "plt.xlabel('Percentage of Dataset')\n",
    "plt.ylabel('Accuracy')\n",
    "plt.grid()\n",
    "plt.legend()\n",
    "\n",
    "plt.savefig('accuracy_over_setsize.eps', bbox_inches='tight')"
   ]
  }
 ],
 "metadata": {
  "kernelspec": {
   "display_name": "Python 3",
   "language": "python",
   "name": "python3"
  },
  "language_info": {
   "codemirror_mode": {
    "name": "ipython",
    "version": 3
   },
   "file_extension": ".py",
   "mimetype": "text/x-python",
   "name": "python",
   "nbconvert_exporter": "python",
   "pygments_lexer": "ipython3",
   "version": "3.6.9"
  }
 },
 "nbformat": 4,
 "nbformat_minor": 2
}
